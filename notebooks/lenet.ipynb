{
 "cells": [
  {
   "cell_type": "markdown",
   "metadata": {},
   "source": [
    "# LeNet"
   ]
  },
  {
   "cell_type": "code",
   "execution_count": 1,
   "metadata": {},
   "outputs": [],
   "source": [
    "import numpy as np\n",
    "\n",
    "import torch\n",
    "import torchvision\n",
    "import torchvision.transforms as transforms\n",
    "from torchvision.transforms import RandomCrop, RandomRotation\n",
    "\n",
    "from torch.autograd import Variable\n",
    "import torch.nn as nn\n",
    "import torch.nn.functional as F\n",
    "\n",
    "import torch.optim as optim\n",
    "\n",
    "import matplotlib.pyplot as plt\n",
    "\n",
    "%matplotlib inline"
   ]
  },
  {
   "cell_type": "code",
   "execution_count": 2,
   "metadata": {},
   "outputs": [],
   "source": [
    "def load_data(training=True):\n",
    "    transform_ = transforms.Compose(\n",
    "        [RandomRotation(45),\n",
    "         RandomCrop(28),\n",
    "         transforms.ToTensor()]\n",
    "    )\n",
    "\n",
    "    data = torchvision.datasets.MNIST(\n",
    "        root='./data/',\n",
    "        train=training,\n",
    "        download=True,\n",
    "        transform=transform_,\n",
    "    )\n",
    "\n",
    "    loader = torch.utils.data.DataLoader(\n",
    "        data,\n",
    "        batch_size=8,\n",
    "        shuffle=True,\n",
    "        num_workers=2,\n",
    "    )\n",
    "\n",
    "    return loader"
   ]
  },
  {
   "cell_type": "code",
   "execution_count": 3,
   "metadata": {},
   "outputs": [],
   "source": [
    "def num_flat_features(self, x):\n",
    "    \"\"\"return the number of flat features from a pytorch variable\"\"\"\n",
    "    return int(np.prod(x.size()[1:]))\n"
   ]
  },
  {
   "cell_type": "code",
   "execution_count": 4,
   "metadata": {},
   "outputs": [],
   "source": [
    "class LeNet(nn.Module):\n",
    "    def __init__(self):\n",
    "        super(LeNet, self).__init__()\n",
    "        # Convolutional Layers\n",
    "        # 1 image, 6 output channels, 5*5 convolution\n",
    "        self.conv1 = nn.Conv2d(1, 6, kernel_size=(5, 5), stride=(1, 1))\n",
    "        self.conv2 = nn.Conv2d(6, 16, kernel_size=(5, 5), stride=(1, 1))\n",
    "\n",
    "        # Fully Connected Layers\n",
    "        self.fc1 = nn.Linear(256, 120)  # layer 1 activation\n",
    "        self.fc2 = nn.Linear(120, 84)\n",
    "        self.fc3 = nn.Linear(84, 10)\n",
    "\n",
    "    def forward(self, x):\n",
    "        \"\"\"\n",
    "        forward must be overwritten in torch model class\n",
    "        \"\"\"\n",
    "        # Convolutional Layers\n",
    "        x = F.max_pool2d(F.relu(self.conv1(x)), (2, 2))  # add pooling layer\n",
    "        x = F.max_pool2d(F.relu(self.conv2(x)), (2, 2))\n",
    "        \n",
    "        x = x.view(-1, 256)  # flatten for fully connected layers\n",
    "\n",
    "        # fully connected layers\n",
    "        x = F.relu(self.fc1(x))\n",
    "        x = F.relu(self.fc2(x))\n",
    "        x = self.fc3(x)\n",
    "\n",
    "        return x\n"
   ]
  },
  {
   "cell_type": "code",
   "execution_count": 5,
   "metadata": {},
   "outputs": [],
   "source": [
    "net = LeNet()\n",
    "criterion = nn.CrossEntropyLoss()\n",
    "optimizer = optim.Adam(net.parameters())"
   ]
  },
  {
   "cell_type": "code",
   "execution_count": 6,
   "metadata": {},
   "outputs": [],
   "source": [
    "dataloader = load_data(training=True)"
   ]
  },
  {
   "cell_type": "code",
   "execution_count": 7,
   "metadata": {
    "scrolled": false
   },
   "outputs": [
    {
     "name": "stdout",
     "output_type": "stream",
     "text": [
      "Batch:   500 - Loss: 0.5910\n",
      "Accuracy: 75.00%\n",
      "Batch:  1000 - Loss: 0.3588\n",
      "Accuracy: 76.25%\n",
      "Batch:  1500 - Loss: 0.3016\n",
      "Accuracy: 80.00%\n",
      "Batch:  2000 - Loss: 0.2220\n",
      "Accuracy: 83.75%\n",
      "Batch:  2500 - Loss: 0.2121\n",
      "Accuracy: 86.50%\n",
      "Batch:  3000 - Loss: 0.1969\n",
      "Accuracy: 87.92%\n",
      "Batch:  3500 - Loss: 0.1586\n",
      "Accuracy: 88.57%\n",
      "Batch:  4000 - Loss: 0.2141\n",
      "Accuracy: 89.69%\n",
      "Batch:  4500 - Loss: 0.1453\n",
      "Accuracy: 90.56%\n",
      "Batch:  5000 - Loss: 0.1633\n",
      "Accuracy: 91.00%\n",
      "Batch:  5500 - Loss: 0.1534\n",
      "Accuracy: 91.82%\n",
      "Batch:  6000 - Loss: 0.1847\n",
      "Accuracy: 91.67%\n",
      "Batch:  6500 - Loss: 0.1293\n",
      "Accuracy: 91.35%\n",
      "Batch:  7000 - Loss: 0.1114\n",
      "Accuracy: 91.25%\n",
      "Batch:  7500 - Loss: 0.1033\n",
      "Accuracy: 91.67%\n",
      "Finished Training\n"
     ]
    }
   ],
   "source": [
    "scores = []\n",
    "\n",
    "running_loss = 0.0\n",
    "correct = 0\n",
    "total = 0\n",
    "for i, (inputs, labels) in enumerate(dataloader, 0):\n",
    "\n",
    "    # wrap features in Variable\n",
    "    inputs, labels = Variable(inputs), Variable(labels)\n",
    "\n",
    "    # zero the parameter gradients\n",
    "    optimizer.zero_grad()\n",
    "\n",
    "    # forward + backward + optimize\n",
    "    outputs = net(inputs)\n",
    "    loss = criterion(outputs, labels)\n",
    "    loss.backward()  # compute back propagation\n",
    "    optimizer.step()  # update model parameters\n",
    "\n",
    "    running_loss += loss.data[0]\n",
    "\n",
    "    if i % 100 == 99:  # print every 2000 mini-batches\n",
    "        _, predicted = torch.max(outputs.data, 1)\n",
    "        total += labels.size(0)\n",
    "        correct += predicted.eq(labels.data).cpu().sum()\n",
    "        accuracy = 100.*correct/total\n",
    "        \n",
    "        scores.append((i+1, running_loss/100, accuracy)) \n",
    "        \n",
    "        # print results\n",
    "        if i % 500 == 499:\n",
    "            print('Batch: %5d - Loss: %.4f' % (i+1, running_loss/100))\n",
    "            print(\"Accuracy: {:.2f}%\".format(accuracy))\n",
    "            \n",
    "        running_loss = 0.0    \n",
    "        \n",
    "print('Finished Training')"
   ]
  },
  {
   "cell_type": "code",
   "execution_count": 8,
   "metadata": {},
   "outputs": [],
   "source": [
    "iterations = [i[0] for i in scores]\n",
    "loss_scores = [i[1] for i in scores]\n",
    "acc_scores = [i[2] for i in scores]"
   ]
  },
  {
   "cell_type": "code",
   "execution_count": 9,
   "metadata": {},
   "outputs": [
    {
     "data": {
      "image/png": "[encoded data removed]",
      "text/plain": [
       "<Figure size 432x288 with 1 Axes>"
      ]
     },
     "metadata": {},
     "output_type": "display_data"
    }
   ],
   "source": [
    "plt.plot(iterations, loss_scores);\n",
    "plt.title('Loss')\n",
    "plt.show()"
   ]
  },
  {
   "cell_type": "code",
   "execution_count": 10,
   "metadata": {},
   "outputs": [
    {
     "data": {
      "image/png": "[encoded data removed]",
      "text/plain": [
       "<Figure size 432x288 with 1 Axes>"
      ]
     },
     "metadata": {},
     "output_type": "display_data"
    }
   ],
   "source": [
    "plt.plot(iterations, acc_scores);\n",
    "plt.title('Accuracy')\n",
    "plt.show()"
   ]
  },
  {
   "cell_type": "code",
   "execution_count": null,
   "metadata": {},
   "outputs": [],
   "source": []
  }
 ],
 "metadata": {
  "kernelspec": {
   "display_name": "Python 3",
   "language": "python",
   "name": "python3"
  },
  "language_info": {
   "codemirror_mode": {
    "name": "ipython",
    "version": 3
   },
   "file_extension": ".py",
   "mimetype": "text/x-python",
   "name": "python",
   "nbconvert_exporter": "python",
   "pygments_lexer": "ipython3",
   "version": "3.6.4"
  }
 },
 "nbformat": 4,
 "nbformat_minor": 2
}

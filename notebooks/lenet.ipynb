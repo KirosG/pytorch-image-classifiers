{
 "cells": [
  {
   "cell_type": "markdown",
   "metadata": {},
   "source": [
    "# LeNet"
   ]
  },
  {
   "cell_type": "code",
   "execution_count": 1,
   "metadata": {},
   "outputs": [],
   "source": [
    "%matplotlib inline\n",
    "\n",
    "from collections import defaultdict\n",
    "\n",
    "import numpy as np\n",
    "import pandas as pd\n",
    "import torch\n",
    "import torch.nn as nn\n",
    "import torch.nn.functional as F\n",
    "import torch.optim as optim\n",
    "from torch.autograd import Variable\n",
    "import torchvision\n",
    "import torchvision.transforms as transforms\n",
    "from torchvision.transforms import RandomCrop, RandomRotation\n",
    "import matplotlib as mpl\n",
    "import matplotlib.pyplot as plt\n",
    "import seaborn as sns\n",
    "\n",
    "\n",
    "plt.rcParams['figure.figsize'] = (9, 6)\n",
    "\n",
    "sns.set_style('darkgrid')"
   ]
  },
  {
   "cell_type": "code",
   "execution_count": 2,
   "metadata": {},
   "outputs": [],
   "source": [
    "DATA_DIR = \"../data\""
   ]
  },
  {
   "cell_type": "code",
   "execution_count": 3,
   "metadata": {},
   "outputs": [],
   "source": [
    "def num_flat_features(self, x):\n",
    "    \"\"\"return the number of flat features from a pytorch variable\"\"\"\n",
    "    return int(np.prod(x.size()[1:]))\n"
   ]
  },
  {
   "cell_type": "markdown",
   "metadata": {},
   "source": [
    "## Defining the model"
   ]
  },
  {
   "cell_type": "code",
   "execution_count": 4,
   "metadata": {},
   "outputs": [],
   "source": [
    "class LeNet(nn.Module):\n",
    "    def __init__(self):\n",
    "        super(LeNet, self).__init__()  # run initializer on the parent class\n",
    "        \n",
    "        # Convolutional Layers\n",
    "        # 1 image, 6 output channels, 5x5 convolution\n",
    "        self.conv1 = nn.Conv2d(1, 6, kernel_size=(5, 5), stride=(1, 1))\n",
    "        self.conv2 = nn.Conv2d(6, 16, kernel_size=(5, 5), stride=(1, 1))\n",
    "\n",
    "        # Fully Connected Layers\n",
    "        self.fc1 = nn.Linear(256, 120)\n",
    "        self.fc2 = nn.Linear(120, 84)\n",
    "        self.fc3 = nn.Linear(84, 10)\n",
    "\n",
    "    def forward(self, x):\n",
    "        \"\"\"\n",
    "        forward must be overwritten in torch model class\n",
    "        \"\"\"\n",
    "        # Convolutional Layers\n",
    "        x = F.max_pool2d(F.relu(self.conv1(x)), (2, 2))  # add pooling layer\n",
    "        x = F.max_pool2d(F.relu(self.conv2(x)), (2, 2))\n",
    "        \n",
    "        x = x.view(-1, 256)  # flatten for fully connected layers\n",
    "\n",
    "        # fully connected layers\n",
    "        x = F.relu(self.fc1(x))\n",
    "        x = F.relu(self.fc2(x))\n",
    "        x = self.fc3(x)\n",
    "\n",
    "        return x\n",
    "    \n",
    "    def __str__(self):\n",
    "        return \"LeNet\"\n"
   ]
  },
  {
   "cell_type": "code",
   "execution_count": 5,
   "metadata": {},
   "outputs": [],
   "source": [
    "net = LeNet()"
   ]
  },
  {
   "cell_type": "code",
   "execution_count": 6,
   "metadata": {},
   "outputs": [
    {
     "name": "stdout",
     "output_type": "stream",
     "text": [
      "LeNet\n"
     ]
    }
   ],
   "source": [
    "print(net)"
   ]
  },
  {
   "cell_type": "markdown",
   "metadata": {},
   "source": [
    "Define loss and optimization algorithms"
   ]
  },
  {
   "cell_type": "code",
   "execution_count": 7,
   "metadata": {},
   "outputs": [],
   "source": [
    "# criterion = nn.CrossEntropyLoss()\n",
    "# optimizer = optim.Adam(net.parameters())"
   ]
  },
  {
   "cell_type": "markdown",
   "metadata": {},
   "source": [
    "## Data handling"
   ]
  },
  {
   "cell_type": "code",
   "execution_count": 8,
   "metadata": {},
   "outputs": [],
   "source": [
    "def load_data(training=True):\n",
    "    transform_ = transforms.Compose(\n",
    "        [RandomRotation(45),\n",
    "         RandomCrop(28),\n",
    "         transforms.ToTensor()]\n",
    "    )\n",
    "    data = torchvision.datasets.MNIST(\n",
    "        root='./data/',\n",
    "        train=training,\n",
    "        download=True,\n",
    "        transform=transform_,\n",
    "    )\n",
    "\n",
    "    loader = torch.utils.data.DataLoader(\n",
    "        data,\n",
    "        batch_size=4,\n",
    "        shuffle=True,\n",
    "        num_workers=2,\n",
    "    )\n",
    "   \n",
    "    return loader"
   ]
  },
  {
   "cell_type": "markdown",
   "metadata": {},
   "source": [
    "Load the data.\n",
    "If the data files do not exist, download them."
   ]
  },
  {
   "cell_type": "code",
   "execution_count": 9,
   "metadata": {},
   "outputs": [],
   "source": [
    "dataloader = load_data(training=True)"
   ]
  },
  {
   "cell_type": "code",
   "execution_count": 10,
   "metadata": {},
   "outputs": [],
   "source": [
    "def train(model, data, criterion, optimizer, verbose=False):    \n",
    "    scores = []\n",
    "    running_loss = 0.0\n",
    "    correct = 0\n",
    "    total = 0\n",
    "    for i, (inputs, labels) in enumerate(dataloader, 0):\n",
    "        # wrap features as torch Variables\n",
    "        inputs, labels = Variable(inputs), Variable(labels)\n",
    "\n",
    "        # zero the parameter gradients\n",
    "        optimizer.zero_grad()\n",
    "\n",
    "        # forward + backward + optimize\n",
    "        outputs = net(inputs) # forward pass\n",
    "        loss = criterion(outputs, labels)  # optimization\n",
    "        loss.backward()  # compute back propagation\n",
    "        optimizer.step()  # update model parameters\n",
    "\n",
    "        running_loss += loss.data[0]\n",
    "\n",
    "        if i % 100 == 99:  # print every 2000 mini-batches\n",
    "            _, predicted = torch.max(outputs.data, 1)\n",
    "            total += labels.size(0)\n",
    "            correct += predicted.eq(labels.data).cpu().sum()\n",
    "            accuracy = 100. * correct / total\n",
    "\n",
    "            scores.append((i+1, running_loss/100, accuracy)) \n",
    "\n",
    "            # print results\n",
    "            if verbose and i % 500 == 499:\n",
    "                print('Batch: %5d - Loss: %.3f' % (i+1, running_loss/100))\n",
    "                print(\"Accuracy: {:.2f}%\".format(accuracy))\n",
    "\n",
    "            running_loss = 0.0    \n",
    "\n",
    "    print('Finished Training')\n",
    "        \n",
    "        \n",
    "    return scores"
   ]
  },
  {
   "cell_type": "code",
   "execution_count": 11,
   "metadata": {},
   "outputs": [],
   "source": [
    "def unpack_data(data):\n",
    "    iterations = [i[0] for i in scores]\n",
    "    loss_scores = [i[1] for i in scores]\n",
    "    acc_scores = [i[2] for i in scores]\n",
    "    \n",
    "    return iterations, loss_scores, acc_scores\n",
    "    "
   ]
  },
  {
   "cell_type": "code",
   "execution_count": 12,
   "metadata": {},
   "outputs": [],
   "source": [
    "def plot_loss(i, loss):\n",
    "    plt.plot(i, loss);\n",
    "    plt.title('Loss')\n",
    "    plt.xlabel('Step')\n",
    "    plt.y_label('Model Loss')\n"
   ]
  },
  {
   "cell_type": "code",
   "execution_count": 13,
   "metadata": {},
   "outputs": [],
   "source": [
    "def plot_accuracy(i, acc):\n",
    "    plt.plot(i, acc);\n",
    "    plt.title('Accuracy')\n",
    "    plt.xlabel('Step')\n",
    "    plt.y_label('Accuracy')\n"
   ]
  },
  {
   "cell_type": "code",
   "execution_count": 14,
   "metadata": {},
   "outputs": [
    {
     "name": "stdout",
     "output_type": "stream",
     "text": [
      "Model 1...\n",
      "Batch:   500 - Loss: 0.830\n",
      "Accuracy: 55.00%\n",
      "Batch:  1000 - Loss: 0.569\n",
      "Accuracy: 70.00%\n",
      "Batch:  1500 - Loss: 0.421\n",
      "Accuracy: 73.33%\n",
      "Batch:  2000 - Loss: 0.304\n",
      "Accuracy: 77.50%\n",
      "Batch:  2500 - Loss: 0.350\n",
      "Accuracy: 81.00%\n",
      "Batch:  3000 - Loss: 0.299\n",
      "Accuracy: 82.50%\n",
      "Batch:  3500 - Loss: 0.303\n",
      "Accuracy: 84.29%\n",
      "Batch:  4000 - Loss: 0.269\n",
      "Accuracy: 85.62%\n",
      "Batch:  4500 - Loss: 0.271\n",
      "Accuracy: 87.22%\n",
      "Batch:  5000 - Loss: 0.212\n",
      "Accuracy: 88.00%\n",
      "Batch:  5500 - Loss: 0.172\n",
      "Accuracy: 88.64%\n",
      "Batch:  6000 - Loss: 0.217\n",
      "Accuracy: 87.92%\n",
      "Batch:  6500 - Loss: 0.215\n",
      "Accuracy: 88.46%\n",
      "Batch:  7000 - Loss: 0.209\n",
      "Accuracy: 88.93%\n",
      "Batch:  7500 - Loss: 0.125\n",
      "Accuracy: 89.67%\n",
      "Batch:  8000 - Loss: 0.174\n",
      "Accuracy: 89.69%\n",
      "Batch:  8500 - Loss: 0.205\n",
      "Accuracy: 90.00%\n",
      "Batch:  9000 - Loss: 0.224\n",
      "Accuracy: 90.28%\n",
      "Batch:  9500 - Loss: 0.146\n",
      "Accuracy: 90.26%\n",
      "Batch: 10000 - Loss: 0.223\n",
      "Accuracy: 90.50%\n",
      "Batch: 10500 - Loss: 0.181\n",
      "Accuracy: 90.95%\n",
      "Batch: 11000 - Loss: 0.188\n",
      "Accuracy: 91.14%\n",
      "Batch: 11500 - Loss: 0.145\n",
      "Accuracy: 91.52%\n",
      "Batch: 12000 - Loss: 0.242\n",
      "Accuracy: 91.88%\n",
      "Batch: 12500 - Loss: 0.124\n",
      "Accuracy: 91.60%\n",
      "Batch: 13000 - Loss: 0.155\n",
      "Accuracy: 91.73%\n",
      "Batch: 13500 - Loss: 0.136\n",
      "Accuracy: 92.04%\n",
      "Batch: 14000 - Loss: 0.146\n",
      "Accuracy: 92.32%\n",
      "Batch: 14500 - Loss: 0.152\n",
      "Accuracy: 92.59%\n",
      "Batch: 15000 - Loss: 0.144\n",
      "Accuracy: 92.50%\n",
      "Finished Training\n",
      "\n"
     ]
    }
   ],
   "source": [
    "results = defaultdict(list)\n",
    "\n",
    "for i in range(1):  # Our Epochs\n",
    "    print(\"Model {}...\".format(i+1))\n",
    "    net = LeNet()\n",
    "    criterion = nn.CrossEntropyLoss()\n",
    "    optimizer = optim.Adam(net.parameters())\n",
    "    \n",
    "    scores = train(\n",
    "        net,  # the model\n",
    "        dataloader,  # the data provider\n",
    "        criterion,  # the loss function\n",
    "        optimizer,  # the optimization algorithm\n",
    "        verbose=True,  # print results\n",
    "    )\n",
    "    step, loss, acc = unpack_data(scores) \n",
    "    \n",
    "    net.zero_grad()\n",
    "    optimizer.zero_grad()\n",
    "    \n",
    "    results['step'].append(step)\n",
    "    results['loss_scores'].append(loss)\n",
    "    results['acc_scores'].append(acc)\n",
    "    results['model_n'].append([i] * len(step))\n",
    "        \n",
    "    del net, criterion, optimizer\n",
    "    "
   ]
  },
  {
   "cell_type": "code",
   "execution_count": 15,
   "metadata": {},
   "outputs": [],
   "source": [
    "# results"
   ]
  },
  {
   "cell_type": "code",
   "execution_count": 22,
   "metadata": {},
   "outputs": [
    {
     "data": {
      "text/plain": [
       "<matplotlib.collections.PathCollection at 0x10c30f1d0>"
      ]
     },
     "execution_count": 22,
     "metadata": {},
     "output_type": "execute_result"
    },
    {
     "data": {
      "image/png": "[encoded data removed]",
      "text/plain": [
       "<Figure size 432x288 with 1 Axes>"
      ]
     },
     "metadata": {},
     "output_type": "display_data"
    }
   ],
   "source": [
    "plt.scatter(results['step'], results['loss_scores'], alpha=0.5)"
   ]
  },
  {
   "cell_type": "code",
   "execution_count": 23,
   "metadata": {},
   "outputs": [
    {
     "data": {
      "text/plain": [
       "<matplotlib.collections.PathCollection at 0x10c3be518>"
      ]
     },
     "execution_count": 23,
     "metadata": {},
     "output_type": "execute_result"
    },
    {
     "data": {
      "image/png": "[encoded data removed]",
      "text/plain": [
       "<Figure size 432x288 with 1 Axes>"
      ]
     },
     "metadata": {},
     "output_type": "display_data"
    }
   ],
   "source": [
    "plt.scatter(results['step'], results['acc_scores'], alpha=0.5)"
   ]
  },
  {
   "cell_type": "code",
   "execution_count": 18,
   "metadata": {},
   "outputs": [],
   "source": [
    "df = pd.DataFrame.from_dict(results)"
   ]
  },
  {
   "cell_type": "code",
   "execution_count": 19,
   "metadata": {},
   "outputs": [],
   "source": [
    "# df['step'] = df['step'].apply(int)"
   ]
  },
  {
   "cell_type": "code",
   "execution_count": 32,
   "metadata": {},
   "outputs": [
    {
     "data": {
      "text/plain": [
       "acc_scores     object\n",
       "loss_scores    object\n",
       "model_n        object\n",
       "step           object\n",
       "dtype: object"
      ]
     },
     "execution_count": 32,
     "metadata": {},
     "output_type": "execute_result"
    }
   ],
   "source": [
    "df.dtypes"
   ]
  },
  {
   "cell_type": "code",
   "execution_count": 34,
   "metadata": {},
   "outputs": [
    {
     "name": "stdout",
     "output_type": "stream",
     "text": [
      "[100, 200, 300, 400, 500, 600, 700, 800, 900, 1000, 1100, 1200, 1300, 1400, 1500, 1600, 1700, 1800, 1900, 2000, 2100, 2200, 2300, 2400, 2500, 2600, 2700, 2800, 2900, 3000, 3100, 3200, 3300, 3400, 3500, 3600, 3700, 3800, 3900, 4000, 4100, 4200, 4300, 4400, 4500, 4600, 4700, 4800, 4900, 5000, 5100, 5200, 5300, 5400, 5500, 5600, 5700, 5800, 5900, 6000, 6100, 6200, 6300, 6400, 6500, 6600, 6700, 6800, 6900, 7000, 7100, 7200, 7300, 7400, 7500, 7600, 7700, 7800, 7900, 8000, 8100, 8200, 8300, 8400, 8500, 8600, 8700, 8800, 8900, 9000, 9100, 9200, 9300, 9400, 9500, 9600, 9700, 9800, 9900, 10000, 10100, 10200, 10300, 10400, 10500, 10600, 10700, 10800, 10900, 11000, 11100, 11200, 11300, 11400, 11500, 11600, 11700, 11800, 11900, 12000, 12100, 12200, 12300, 12400, 12500, 12600, 12700, 12800, 12900, 13000, 13100, 13200, 13300, 13400, 13500, 13600, 13700, 13800, 13900, 14000, 14100, 14200, 14300, 14400, 14500, 14600, 14700, 14800, 14900, 15000]\n",
      "[50.0, 50.0, 41.666666666666664, 50.0, 55.0, 58.333333333333336, 64.28571428571429, 68.75, 69.44444444444444, 70.0, 72.72727272727273, 75.0, 75.0, 73.21428571428571, 73.33333333333333, 75.0, 76.47058823529412, 76.38888888888889, 77.63157894736842, 77.5, 78.57142857142857, 79.54545454545455, 80.43478260869566, 80.20833333333333, 81.0, 80.76923076923077, 80.55555555555556, 81.25, 81.89655172413794, 82.5, 82.25806451612904, 82.8125, 83.33333333333333, 83.82352941176471, 84.28571428571429, 84.72222222222223, 85.13513513513513, 85.52631578947368, 85.25641025641026, 85.625, 85.97560975609755, 86.30952380952381, 86.62790697674419, 86.93181818181819, 87.22222222222223, 87.5, 87.76595744680851, 88.02083333333333, 87.75510204081633, 88.0, 88.23529411764706, 88.46153846153847, 88.67924528301887, 88.42592592592592, 88.63636363636364, 87.94642857142857, 87.28070175438596, 87.5, 87.71186440677967, 87.91666666666667, 88.11475409836065, 88.30645161290323, 88.4920634920635, 88.28125, 88.46153846153847, 88.25757575757575, 88.43283582089552, 88.6029411764706, 88.76811594202898, 88.92857142857143, 89.08450704225352, 89.23611111111111, 89.38356164383562, 89.52702702702703, 89.66666666666667, 89.80263157894737, 89.93506493506493, 90.06410256410257, 89.55696202531645, 89.6875, 89.81481481481481, 89.9390243902439, 90.06024096385542, 89.88095238095238, 90.0, 90.11627906976744, 89.94252873563218, 90.05681818181819, 90.1685393258427, 90.27777777777777, 90.38461538461539, 90.48913043478261, 90.3225806451613, 90.15957446808511, 90.26315789473684, 90.36458333333333, 90.4639175257732, 90.56122448979592, 90.65656565656566, 90.5, 90.5940594059406, 90.68627450980392, 90.77669902912622, 90.86538461538461, 90.95238095238095, 90.80188679245283, 90.88785046728972, 90.97222222222223, 91.05504587155963, 91.13636363636364, 91.21621621621621, 91.29464285714286, 91.3716814159292, 91.44736842105263, 91.52173913043478, 91.59482758620689, 91.66666666666667, 91.73728813559322, 91.80672268907563, 91.875, 91.94214876033058, 91.80327868852459, 91.869918699187, 91.53225806451613, 91.6, 91.46825396825396, 91.53543307086615, 91.6015625, 91.66666666666667, 91.73076923076923, 91.79389312977099, 91.85606060606061, 91.9172932330827, 91.9776119402985, 92.03703703703704, 92.09558823529412, 92.15328467153284, 92.21014492753623, 92.26618705035972, 92.32142857142857, 92.37588652482269, 92.42957746478874, 92.48251748251748, 92.53472222222223, 92.58620689655173, 92.46575342465754, 92.34693877551021, 92.39864864864865, 92.4496644295302, 92.5]\n",
      "150 150\n"
     ]
    },
    {
     "ename": "KeyError",
     "evalue": "'[   41.66666667    50.            55.            58.33333333\\n    64.28571429    68.75          69.44444444    70.\\n    72.72727273    73.21428571    73.33333333    75.\\n    76.38888889    76.47058824    77.5           77.63157895\\n    78.57142857    79.54545455    80.20833333    80.43478261\\n    80.55555556    80.76923077    81.            81.25\\n    81.89655172    82.25806452    82.5           82.8125\\n    83.33333333    83.82352941    84.28571429    84.72222222\\n    85.13513514    85.25641026    85.52631579    85.625\\n    85.97560976    86.30952381    86.62790698    86.93181818\\n    87.22222222    87.28070175    87.5           87.71186441\\n    87.75510204    87.76595745    87.91666667    87.94642857\\n    88.            88.02083333    88.1147541     88.23529412\\n    88.25757576    88.28125       88.30645161    88.42592593\\n    88.43283582    88.46153846    88.49206349    88.60294118\\n    88.63636364    88.67924528    88.76811594    88.92857143\\n    89.08450704    89.23611111    89.38356164    89.52702703\\n    89.55696203    89.66666667    89.6875        89.80263158\\n    89.81481481    89.88095238    89.93506494    89.93902439\\n    89.94252874    90.            90.05681818    90.06024096\\n    90.06410256    90.11627907    90.15957447    90.16853933\\n    90.26315789    90.27777778    90.32258065    90.36458333\\n    90.38461538    90.46391753    90.48913043    90.5\\n    90.56122449    90.59405941    90.65656566    90.68627451\\n    90.77669903    90.80188679    90.86538462    90.88785047\\n    90.95238095    90.97222222    91.05504587    91.13636364\\n    91.21621622    91.29464286    91.37168142    91.44736842\\n    91.46825397    91.52173913    91.53225806    91.53543307\\n    91.59482759    91.6           91.6015625     91.66666667\\n    91.73076923    91.73728814    91.79389313    91.80327869\\n    91.80672269    91.85606061    91.8699187     91.875\\n    91.91729323    91.94214876    91.97761194    92.03703704\\n    92.09558824    92.15328467    92.21014493    92.26618705\\n    92.32142857    92.34693878    92.37588652    92.39864865\\n    92.42957746    92.44966443    92.46575342    92.48251748\\n    92.5           92.53472222    92.5862069    100.\\n   200.           300.           400.           500.\\n   600.           700.           800.           900.\\n  1000.          1100.          1200.          1300.\\n  1400.          1500.          1600.          1700.\\n  1800.          1900.          2000.          2100.\\n  2200.          2300.          2400.          2500.\\n  2600.          2700.          2800.          2900.\\n  3000.          3100.          3200.          3300.\\n  3400.          3500.          3600.          3700.\\n  3800.          3900.          4000.          4100.\\n  4200.          4300.          4400.          4500.\\n  4600.          4700.          4800.          4900.\\n  5000.          5100.          5200.          5300.\\n  5400.          5500.          5600.          5700.\\n  5800.          5900.          6000.          6100.\\n  6200.          6300.          6400.          6500.\\n  6600.          6700.          6800.          6900.\\n  7000.          7100.          7200.          7300.\\n  7400.          7500.          7600.          7700.\\n  7800.          7900.          8000.          8100.\\n  8200.          8300.          8400.          8500.\\n  8600.          8700.          8800.          8900.\\n  9000.          9100.          9200.          9300.\\n  9400.          9500.          9600.          9700.\\n  9800.          9900.         10000.         10100.\\n 10200.         10300.         10400.         10500.\\n 10600.         10700.         10800.         10900.\\n 11000.         11100.         11200.         11300.\\n 11400.         11500.         11600.         11700.\\n 11800.         11900.         12000.         12100.\\n 12200.         12300.         12400.         12500.\\n 12600.         12700.         12800.         12900.\\n 13000.         13100.         13200.         13300.\\n 13400.         13500.         13600.         13700.\\n 13800.         13900.         14000.         14100.\\n 14200.         14300.         14400.         14500.\\n 14600.         14700.         14800.         14900.\\n 15000.        ] not in index'",
     "output_type": "error",
     "traceback": [
      "\u001b[0;31m---------------------------------------------------------------------------\u001b[0m",
      "\u001b[0;31mKeyError\u001b[0m                                  Traceback (most recent call last)",
      "\u001b[0;32m<ipython-input-34-f8f38e8fda5c>\u001b[0m in \u001b[0;36m<module>\u001b[0;34m()\u001b[0m\n\u001b[1;32m      9\u001b[0m \u001b[0;34m\u001b[0m\u001b[0m\n\u001b[1;32m     10\u001b[0m \u001b[0;34m\u001b[0m\u001b[0m\n\u001b[0;32m---> 11\u001b[0;31m     \u001b[0msns\u001b[0m\u001b[0;34m.\u001b[0m\u001b[0mlmplot\u001b[0m\u001b[0;34m(\u001b[0m\u001b[0mx\u001b[0m\u001b[0;34m=\u001b[0m\u001b[0mj\u001b[0m\u001b[0;34m,\u001b[0m \u001b[0my\u001b[0m\u001b[0;34m=\u001b[0m\u001b[0macc\u001b[0m\u001b[0;34m,\u001b[0m \u001b[0mdata\u001b[0m\u001b[0;34m=\u001b[0m\u001b[0mdf\u001b[0m\u001b[0;34m,\u001b[0m \u001b[0;34m)\u001b[0m\u001b[0;34m;\u001b[0m\u001b[0;34m\u001b[0m\u001b[0m\n\u001b[0m",
      "\u001b[0;32m/usr/local/lib/python3.6/site-packages/seaborn/regression.py\u001b[0m in \u001b[0;36mlmplot\u001b[0;34m(x, y, data, hue, col, row, palette, col_wrap, size, aspect, markers, sharex, sharey, hue_order, col_order, row_order, legend, legend_out, x_estimator, x_bins, x_ci, scatter, fit_reg, ci, n_boot, units, order, logistic, lowess, robust, logx, x_partial, y_partial, truncate, x_jitter, y_jitter, scatter_kws, line_kws)\u001b[0m\n\u001b[1;32m    550\u001b[0m     \u001b[0mneed_cols\u001b[0m \u001b[0;34m=\u001b[0m \u001b[0;34m[\u001b[0m\u001b[0mx\u001b[0m\u001b[0;34m,\u001b[0m \u001b[0my\u001b[0m\u001b[0;34m,\u001b[0m \u001b[0mhue\u001b[0m\u001b[0;34m,\u001b[0m \u001b[0mcol\u001b[0m\u001b[0;34m,\u001b[0m \u001b[0mrow\u001b[0m\u001b[0;34m,\u001b[0m \u001b[0munits\u001b[0m\u001b[0;34m,\u001b[0m \u001b[0mx_partial\u001b[0m\u001b[0;34m,\u001b[0m \u001b[0my_partial\u001b[0m\u001b[0;34m]\u001b[0m\u001b[0;34m\u001b[0m\u001b[0m\n\u001b[1;32m    551\u001b[0m     \u001b[0mcols\u001b[0m \u001b[0;34m=\u001b[0m \u001b[0mnp\u001b[0m\u001b[0;34m.\u001b[0m\u001b[0munique\u001b[0m\u001b[0;34m(\u001b[0m\u001b[0;34m[\u001b[0m\u001b[0ma\u001b[0m \u001b[0;32mfor\u001b[0m \u001b[0ma\u001b[0m \u001b[0;32min\u001b[0m \u001b[0mneed_cols\u001b[0m \u001b[0;32mif\u001b[0m \u001b[0ma\u001b[0m \u001b[0;32mis\u001b[0m \u001b[0;32mnot\u001b[0m \u001b[0;32mNone\u001b[0m\u001b[0;34m]\u001b[0m\u001b[0;34m)\u001b[0m\u001b[0;34m.\u001b[0m\u001b[0mtolist\u001b[0m\u001b[0;34m(\u001b[0m\u001b[0;34m)\u001b[0m\u001b[0;34m\u001b[0m\u001b[0m\n\u001b[0;32m--> 552\u001b[0;31m     \u001b[0mdata\u001b[0m \u001b[0;34m=\u001b[0m \u001b[0mdata\u001b[0m\u001b[0;34m[\u001b[0m\u001b[0mcols\u001b[0m\u001b[0;34m]\u001b[0m\u001b[0;34m\u001b[0m\u001b[0m\n\u001b[0m\u001b[1;32m    553\u001b[0m \u001b[0;34m\u001b[0m\u001b[0m\n\u001b[1;32m    554\u001b[0m     \u001b[0;31m# Initialize the grid\u001b[0m\u001b[0;34m\u001b[0m\u001b[0;34m\u001b[0m\u001b[0m\n",
      "\u001b[0;32m/usr/local/lib/python3.6/site-packages/pandas/core/frame.py\u001b[0m in \u001b[0;36m__getitem__\u001b[0;34m(self, key)\u001b[0m\n\u001b[1;32m   2131\u001b[0m         \u001b[0;32mif\u001b[0m \u001b[0misinstance\u001b[0m\u001b[0;34m(\u001b[0m\u001b[0mkey\u001b[0m\u001b[0;34m,\u001b[0m \u001b[0;34m(\u001b[0m\u001b[0mSeries\u001b[0m\u001b[0;34m,\u001b[0m \u001b[0mnp\u001b[0m\u001b[0;34m.\u001b[0m\u001b[0mndarray\u001b[0m\u001b[0;34m,\u001b[0m \u001b[0mIndex\u001b[0m\u001b[0;34m,\u001b[0m \u001b[0mlist\u001b[0m\u001b[0;34m)\u001b[0m\u001b[0;34m)\u001b[0m\u001b[0;34m:\u001b[0m\u001b[0;34m\u001b[0m\u001b[0m\n\u001b[1;32m   2132\u001b[0m             \u001b[0;31m# either boolean or fancy integer index\u001b[0m\u001b[0;34m\u001b[0m\u001b[0;34m\u001b[0m\u001b[0m\n\u001b[0;32m-> 2133\u001b[0;31m             \u001b[0;32mreturn\u001b[0m \u001b[0mself\u001b[0m\u001b[0;34m.\u001b[0m\u001b[0m_getitem_array\u001b[0m\u001b[0;34m(\u001b[0m\u001b[0mkey\u001b[0m\u001b[0;34m)\u001b[0m\u001b[0;34m\u001b[0m\u001b[0m\n\u001b[0m\u001b[1;32m   2134\u001b[0m         \u001b[0;32melif\u001b[0m \u001b[0misinstance\u001b[0m\u001b[0;34m(\u001b[0m\u001b[0mkey\u001b[0m\u001b[0;34m,\u001b[0m \u001b[0mDataFrame\u001b[0m\u001b[0;34m)\u001b[0m\u001b[0;34m:\u001b[0m\u001b[0;34m\u001b[0m\u001b[0m\n\u001b[1;32m   2135\u001b[0m             \u001b[0;32mreturn\u001b[0m \u001b[0mself\u001b[0m\u001b[0;34m.\u001b[0m\u001b[0m_getitem_frame\u001b[0m\u001b[0;34m(\u001b[0m\u001b[0mkey\u001b[0m\u001b[0;34m)\u001b[0m\u001b[0;34m\u001b[0m\u001b[0m\n",
      "\u001b[0;32m/usr/local/lib/python3.6/site-packages/pandas/core/frame.py\u001b[0m in \u001b[0;36m_getitem_array\u001b[0;34m(self, key)\u001b[0m\n\u001b[1;32m   2175\u001b[0m             \u001b[0;32mreturn\u001b[0m \u001b[0mself\u001b[0m\u001b[0;34m.\u001b[0m\u001b[0m_take\u001b[0m\u001b[0;34m(\u001b[0m\u001b[0mindexer\u001b[0m\u001b[0;34m,\u001b[0m \u001b[0maxis\u001b[0m\u001b[0;34m=\u001b[0m\u001b[0;36m0\u001b[0m\u001b[0;34m,\u001b[0m \u001b[0mconvert\u001b[0m\u001b[0;34m=\u001b[0m\u001b[0;32mFalse\u001b[0m\u001b[0;34m)\u001b[0m\u001b[0;34m\u001b[0m\u001b[0m\n\u001b[1;32m   2176\u001b[0m         \u001b[0;32melse\u001b[0m\u001b[0;34m:\u001b[0m\u001b[0;34m\u001b[0m\u001b[0m\n\u001b[0;32m-> 2177\u001b[0;31m             \u001b[0mindexer\u001b[0m \u001b[0;34m=\u001b[0m \u001b[0mself\u001b[0m\u001b[0;34m.\u001b[0m\u001b[0mloc\u001b[0m\u001b[0;34m.\u001b[0m\u001b[0m_convert_to_indexer\u001b[0m\u001b[0;34m(\u001b[0m\u001b[0mkey\u001b[0m\u001b[0;34m,\u001b[0m \u001b[0maxis\u001b[0m\u001b[0;34m=\u001b[0m\u001b[0;36m1\u001b[0m\u001b[0;34m)\u001b[0m\u001b[0;34m\u001b[0m\u001b[0m\n\u001b[0m\u001b[1;32m   2178\u001b[0m             \u001b[0;32mreturn\u001b[0m \u001b[0mself\u001b[0m\u001b[0;34m.\u001b[0m\u001b[0m_take\u001b[0m\u001b[0;34m(\u001b[0m\u001b[0mindexer\u001b[0m\u001b[0;34m,\u001b[0m \u001b[0maxis\u001b[0m\u001b[0;34m=\u001b[0m\u001b[0;36m1\u001b[0m\u001b[0;34m,\u001b[0m \u001b[0mconvert\u001b[0m\u001b[0;34m=\u001b[0m\u001b[0;32mTrue\u001b[0m\u001b[0;34m)\u001b[0m\u001b[0;34m\u001b[0m\u001b[0m\n\u001b[1;32m   2179\u001b[0m \u001b[0;34m\u001b[0m\u001b[0m\n",
      "\u001b[0;32m/usr/local/lib/python3.6/site-packages/pandas/core/indexing.py\u001b[0m in \u001b[0;36m_convert_to_indexer\u001b[0;34m(self, obj, axis, is_setter)\u001b[0m\n\u001b[1;32m   1267\u001b[0m                 \u001b[0;32mif\u001b[0m \u001b[0mmask\u001b[0m\u001b[0;34m.\u001b[0m\u001b[0many\u001b[0m\u001b[0;34m(\u001b[0m\u001b[0;34m)\u001b[0m\u001b[0;34m:\u001b[0m\u001b[0;34m\u001b[0m\u001b[0m\n\u001b[1;32m   1268\u001b[0m                     raise KeyError('{mask} not in index'\n\u001b[0;32m-> 1269\u001b[0;31m                                    .format(mask=objarr[mask]))\n\u001b[0m\u001b[1;32m   1270\u001b[0m \u001b[0;34m\u001b[0m\u001b[0m\n\u001b[1;32m   1271\u001b[0m                 \u001b[0;32mreturn\u001b[0m \u001b[0m_values_from_object\u001b[0m\u001b[0;34m(\u001b[0m\u001b[0mindexer\u001b[0m\u001b[0;34m)\u001b[0m\u001b[0;34m\u001b[0m\u001b[0m\n",
      "\u001b[0;31mKeyError\u001b[0m: '[   41.66666667    50.            55.            58.33333333\\n    64.28571429    68.75          69.44444444    70.\\n    72.72727273    73.21428571    73.33333333    75.\\n    76.38888889    76.47058824    77.5           77.63157895\\n    78.57142857    79.54545455    80.20833333    80.43478261\\n    80.55555556    80.76923077    81.            81.25\\n    81.89655172    82.25806452    82.5           82.8125\\n    83.33333333    83.82352941    84.28571429    84.72222222\\n    85.13513514    85.25641026    85.52631579    85.625\\n    85.97560976    86.30952381    86.62790698    86.93181818\\n    87.22222222    87.28070175    87.5           87.71186441\\n    87.75510204    87.76595745    87.91666667    87.94642857\\n    88.            88.02083333    88.1147541     88.23529412\\n    88.25757576    88.28125       88.30645161    88.42592593\\n    88.43283582    88.46153846    88.49206349    88.60294118\\n    88.63636364    88.67924528    88.76811594    88.92857143\\n    89.08450704    89.23611111    89.38356164    89.52702703\\n    89.55696203    89.66666667    89.6875        89.80263158\\n    89.81481481    89.88095238    89.93506494    89.93902439\\n    89.94252874    90.            90.05681818    90.06024096\\n    90.06410256    90.11627907    90.15957447    90.16853933\\n    90.26315789    90.27777778    90.32258065    90.36458333\\n    90.38461538    90.46391753    90.48913043    90.5\\n    90.56122449    90.59405941    90.65656566    90.68627451\\n    90.77669903    90.80188679    90.86538462    90.88785047\\n    90.95238095    90.97222222    91.05504587    91.13636364\\n    91.21621622    91.29464286    91.37168142    91.44736842\\n    91.46825397    91.52173913    91.53225806    91.53543307\\n    91.59482759    91.6           91.6015625     91.66666667\\n    91.73076923    91.73728814    91.79389313    91.80327869\\n    91.80672269    91.85606061    91.8699187     91.875\\n    91.91729323    91.94214876    91.97761194    92.03703704\\n    92.09558824    92.15328467    92.21014493    92.26618705\\n    92.32142857    92.34693878    92.37588652    92.39864865\\n    92.42957746    92.44966443    92.46575342    92.48251748\\n    92.5           92.53472222    92.5862069    100.\\n   200.           300.           400.           500.\\n   600.           700.           800.           900.\\n  1000.          1100.          1200.          1300.\\n  1400.          1500.          1600.          1700.\\n  1800.          1900.          2000.          2100.\\n  2200.          2300.          2400.          2500.\\n  2600.          2700.          2800.          2900.\\n  3000.          3100.          3200.          3300.\\n  3400.          3500.          3600.          3700.\\n  3800.          3900.          4000.          4100.\\n  4200.          4300.          4400.          4500.\\n  4600.          4700.          4800.          4900.\\n  5000.          5100.          5200.          5300.\\n  5400.          5500.          5600.          5700.\\n  5800.          5900.          6000.          6100.\\n  6200.          6300.          6400.          6500.\\n  6600.          6700.          6800.          6900.\\n  7000.          7100.          7200.          7300.\\n  7400.          7500.          7600.          7700.\\n  7800.          7900.          8000.          8100.\\n  8200.          8300.          8400.          8500.\\n  8600.          8700.          8800.          8900.\\n  9000.          9100.          9200.          9300.\\n  9400.          9500.          9600.          9700.\\n  9800.          9900.         10000.         10100.\\n 10200.         10300.         10400.         10500.\\n 10600.         10700.         10800.         10900.\\n 11000.         11100.         11200.         11300.\\n 11400.         11500.         11600.         11700.\\n 11800.         11900.         12000.         12100.\\n 12200.         12300.         12400.         12500.\\n 12600.         12700.         12800.         12900.\\n 13000.         13100.         13200.         13300.\\n 13400.         13500.         13600.         13700.\\n 13800.         13900.         14000.         14100.\\n 14200.         14300.         14400.         14500.\\n 14600.         14700.         14800.         14900.\\n 15000.        ] not in index'"
     ]
    }
   ],
   "source": [
    "for i, j in enumerate(df['step']):\n",
    "    acc = df['acc_scores'][i]\n",
    "    print(j)\n",
    "    print(acc)\n",
    "    \n",
    "    \n",
    "    print(len(j),len(acc))\n",
    "    \n",
    "    \n",
    "    \n",
    "    sns.lmplot(x=j, y=acc, data=df, );"
   ]
  },
  {
   "cell_type": "code",
   "execution_count": null,
   "metadata": {},
   "outputs": [],
   "source": []
  },
  {
   "cell_type": "code",
   "execution_count": null,
   "metadata": {},
   "outputs": [],
   "source": []
  },
  {
   "cell_type": "code",
   "execution_count": null,
   "metadata": {},
   "outputs": [],
   "source": []
  }
 ],
 "metadata": {
  "kernelspec": {
   "display_name": "Python 3",
   "language": "python",
   "name": "python3"
  },
  "language_info": {
   "codemirror_mode": {
    "name": "ipython",
    "version": 3
   },
   "file_extension": ".py",
   "mimetype": "text/x-python",
   "name": "python",
   "nbconvert_exporter": "python",
   "pygments_lexer": "ipython3",
   "version": "3.6.4"
  }
 },
 "nbformat": 4,
 "nbformat_minor": 2
}
